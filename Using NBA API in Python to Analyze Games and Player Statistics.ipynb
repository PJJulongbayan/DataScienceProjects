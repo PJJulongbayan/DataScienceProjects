{
 "cells": [
  {
   "cell_type": "markdown",
   "id": "2db346f4-f9e0-4fd9-bb5a-681ddd626c63",
   "metadata": {},
   "source": [
    "### This notebook utlizes the NBA API to query team and player statistics."
   ]
  },
  {
   "cell_type": "code",
   "execution_count": 27,
   "id": "05f4d999-e241-4e22-8059-1a48f83755fd",
   "metadata": {},
   "outputs": [],
   "source": [
    "# load necessary libraries"
   ]
  },
  {
   "cell_type": "code",
   "execution_count": 28,
   "id": "fff0ff77-3114-44f9-b453-4c2d66ffaa8d",
   "metadata": {},
   "outputs": [],
   "source": [
    "import pandas as pd\n",
    "import numpy as np\n",
    "import sys\n",
    "import re   #string manipulation and search\n",
    "import requests # for web requests and APIs\n",
    "import json \n",
    "import matplotlib.pyplot as plt # charting"
   ]
  },
  {
   "cell_type": "code",
   "execution_count": 29,
   "id": "aac29163-93c4-4bc8-844e-0528f99e16b7",
   "metadata": {},
   "outputs": [],
   "source": [
    "# pip install nba_api - for installation"
   ]
  },
  {
   "cell_type": "code",
   "execution_count": 30,
   "id": "d9c111c6-164f-4246-9cd3-83927aebb541",
   "metadata": {},
   "outputs": [],
   "source": [
    "pd.set_option('display.max_columns',None) # so all columns are visible"
   ]
  },
  {
   "cell_type": "code",
   "execution_count": 31,
   "id": "08f44694-7cb7-49e4-bcd2-ed44ce75d3bc",
   "metadata": {},
   "outputs": [],
   "source": [
    "from nba_api.stats.static import teams"
   ]
  },
  {
   "cell_type": "code",
   "execution_count": 32,
   "id": "5dd014eb-06b6-45cf-a6f7-1fb102852ba3",
   "metadata": {},
   "outputs": [],
   "source": [
    "nba_teams = teams.get_teams()"
   ]
  },
  {
   "cell_type": "code",
   "execution_count": 33,
   "id": "4425803a-256b-4494-b942-292d16c1534c",
   "metadata": {},
   "outputs": [],
   "source": [
    "df = pd.DataFrame(nba_teams)"
   ]
  },
  {
   "cell_type": "code",
   "execution_count": 34,
   "id": "4f44e5e0-b263-4dcc-b871-9b73d0258009",
   "metadata": {},
   "outputs": [
    {
     "data": {
      "text/html": [
       "<div>\n",
       "<style scoped>\n",
       "    .dataframe tbody tr th:only-of-type {\n",
       "        vertical-align: middle;\n",
       "    }\n",
       "\n",
       "    .dataframe tbody tr th {\n",
       "        vertical-align: top;\n",
       "    }\n",
       "\n",
       "    .dataframe thead th {\n",
       "        text-align: right;\n",
       "    }\n",
       "</style>\n",
       "<table border=\"1\" class=\"dataframe\">\n",
       "  <thead>\n",
       "    <tr style=\"text-align: right;\">\n",
       "      <th></th>\n",
       "      <th>id</th>\n",
       "      <th>full_name</th>\n",
       "      <th>abbreviation</th>\n",
       "      <th>nickname</th>\n",
       "      <th>city</th>\n",
       "      <th>state</th>\n",
       "      <th>year_founded</th>\n",
       "    </tr>\n",
       "  </thead>\n",
       "  <tbody>\n",
       "    <tr>\n",
       "      <th>0</th>\n",
       "      <td>1610612737</td>\n",
       "      <td>Atlanta Hawks</td>\n",
       "      <td>ATL</td>\n",
       "      <td>Hawks</td>\n",
       "      <td>Atlanta</td>\n",
       "      <td>Georgia</td>\n",
       "      <td>1949</td>\n",
       "    </tr>\n",
       "    <tr>\n",
       "      <th>1</th>\n",
       "      <td>1610612738</td>\n",
       "      <td>Boston Celtics</td>\n",
       "      <td>BOS</td>\n",
       "      <td>Celtics</td>\n",
       "      <td>Boston</td>\n",
       "      <td>Massachusetts</td>\n",
       "      <td>1946</td>\n",
       "    </tr>\n",
       "    <tr>\n",
       "      <th>2</th>\n",
       "      <td>1610612739</td>\n",
       "      <td>Cleveland Cavaliers</td>\n",
       "      <td>CLE</td>\n",
       "      <td>Cavaliers</td>\n",
       "      <td>Cleveland</td>\n",
       "      <td>Ohio</td>\n",
       "      <td>1970</td>\n",
       "    </tr>\n",
       "    <tr>\n",
       "      <th>3</th>\n",
       "      <td>1610612740</td>\n",
       "      <td>New Orleans Pelicans</td>\n",
       "      <td>NOP</td>\n",
       "      <td>Pelicans</td>\n",
       "      <td>New Orleans</td>\n",
       "      <td>Louisiana</td>\n",
       "      <td>2002</td>\n",
       "    </tr>\n",
       "    <tr>\n",
       "      <th>4</th>\n",
       "      <td>1610612741</td>\n",
       "      <td>Chicago Bulls</td>\n",
       "      <td>CHI</td>\n",
       "      <td>Bulls</td>\n",
       "      <td>Chicago</td>\n",
       "      <td>Illinois</td>\n",
       "      <td>1966</td>\n",
       "    </tr>\n",
       "  </tbody>\n",
       "</table>\n",
       "</div>"
      ],
      "text/plain": [
       "           id             full_name abbreviation   nickname         city  \\\n",
       "0  1610612737         Atlanta Hawks          ATL      Hawks      Atlanta   \n",
       "1  1610612738        Boston Celtics          BOS    Celtics       Boston   \n",
       "2  1610612739   Cleveland Cavaliers          CLE  Cavaliers    Cleveland   \n",
       "3  1610612740  New Orleans Pelicans          NOP   Pelicans  New Orleans   \n",
       "4  1610612741         Chicago Bulls          CHI      Bulls      Chicago   \n",
       "\n",
       "           state  year_founded  \n",
       "0        Georgia          1949  \n",
       "1  Massachusetts          1946  \n",
       "2           Ohio          1970  \n",
       "3      Louisiana          2002  \n",
       "4       Illinois          1966  "
      ]
     },
     "execution_count": 34,
     "metadata": {},
     "output_type": "execute_result"
    }
   ],
   "source": [
    "df.head()"
   ]
  },
  {
   "cell_type": "code",
   "execution_count": 35,
   "id": "331a98c1-0a54-459c-9daa-0493c2ae6ee8",
   "metadata": {},
   "outputs": [],
   "source": [
    "# query info for the golden state warriors"
   ]
  },
  {
   "cell_type": "code",
   "execution_count": 36,
   "id": "4dbbb27e-e2e6-4f29-bcba-4f1e1f0e5212",
   "metadata": {},
   "outputs": [],
   "source": [
    "gsw = df[df[\"nickname\"] == \"Warriors\"]"
   ]
  },
  {
   "cell_type": "code",
   "execution_count": 37,
   "id": "3f2665fa-7d21-4961-8881-30d47629f3c7",
   "metadata": {},
   "outputs": [
    {
     "data": {
      "text/plain": [
       "1610612744"
      ]
     },
     "execution_count": 37,
     "metadata": {},
     "output_type": "execute_result"
    }
   ],
   "source": [
    "id_gsw=gsw[['id']].values[0][0]\n",
    "# we now have an integer that can be used to request the Warriors information \n",
    "id_gsw"
   ]
  },
  {
   "cell_type": "code",
   "execution_count": 38,
   "id": "39fd1c28-7d90-436b-898a-caa66645fe55",
   "metadata": {},
   "outputs": [],
   "source": [
    "# use league game finder to query games for GSW"
   ]
  },
  {
   "cell_type": "code",
   "execution_count": 39,
   "id": "01c9fed8-5793-4412-a6de-e92c7425e91d",
   "metadata": {},
   "outputs": [],
   "source": [
    "from nba_api.stats.endpoints import leaguegamefinder"
   ]
  },
  {
   "cell_type": "code",
   "execution_count": 40,
   "id": "4ff29d36-4656-4cba-ad44-c6b5be43bb29",
   "metadata": {},
   "outputs": [],
   "source": [
    "gamefinder = leaguegamefinder.LeagueGameFinder(team_id_nullable=id_gsw) # can remove team_id since it is nullable"
   ]
  },
  {
   "cell_type": "code",
   "execution_count": 41,
   "id": "8d313212-1935-49fa-983c-0de01cdcda42",
   "metadata": {},
   "outputs": [
    {
     "data": {
      "text/html": [
       "<div>\n",
       "<style scoped>\n",
       "    .dataframe tbody tr th:only-of-type {\n",
       "        vertical-align: middle;\n",
       "    }\n",
       "\n",
       "    .dataframe tbody tr th {\n",
       "        vertical-align: top;\n",
       "    }\n",
       "\n",
       "    .dataframe thead th {\n",
       "        text-align: right;\n",
       "    }\n",
       "</style>\n",
       "<table border=\"1\" class=\"dataframe\">\n",
       "  <thead>\n",
       "    <tr style=\"text-align: right;\">\n",
       "      <th></th>\n",
       "      <th>SEASON_ID</th>\n",
       "      <th>TEAM_ID</th>\n",
       "      <th>TEAM_ABBREVIATION</th>\n",
       "      <th>TEAM_NAME</th>\n",
       "      <th>GAME_ID</th>\n",
       "      <th>GAME_DATE</th>\n",
       "      <th>MATCHUP</th>\n",
       "      <th>WL</th>\n",
       "      <th>MIN</th>\n",
       "      <th>PTS</th>\n",
       "      <th>FGM</th>\n",
       "      <th>FGA</th>\n",
       "      <th>FG_PCT</th>\n",
       "      <th>FG3M</th>\n",
       "      <th>FG3A</th>\n",
       "      <th>FG3_PCT</th>\n",
       "      <th>FTM</th>\n",
       "      <th>FTA</th>\n",
       "      <th>FT_PCT</th>\n",
       "      <th>OREB</th>\n",
       "      <th>DREB</th>\n",
       "      <th>REB</th>\n",
       "      <th>AST</th>\n",
       "      <th>STL</th>\n",
       "      <th>BLK</th>\n",
       "      <th>TOV</th>\n",
       "      <th>PF</th>\n",
       "      <th>PLUS_MINUS</th>\n",
       "    </tr>\n",
       "  </thead>\n",
       "  <tbody>\n",
       "    <tr>\n",
       "      <th>0</th>\n",
       "      <td>22023</td>\n",
       "      <td>1610612744</td>\n",
       "      <td>GSW</td>\n",
       "      <td>Golden State Warriors</td>\n",
       "      <td>0022300589</td>\n",
       "      <td>2024-04-02</td>\n",
       "      <td>GSW vs. DAL</td>\n",
       "      <td>W</td>\n",
       "      <td>242</td>\n",
       "      <td>104</td>\n",
       "      <td>41</td>\n",
       "      <td>90</td>\n",
       "      <td>0.456</td>\n",
       "      <td>15</td>\n",
       "      <td>32.0</td>\n",
       "      <td>0.469</td>\n",
       "      <td>7</td>\n",
       "      <td>7</td>\n",
       "      <td>1.000</td>\n",
       "      <td>11.0</td>\n",
       "      <td>41.0</td>\n",
       "      <td>52.0</td>\n",
       "      <td>29</td>\n",
       "      <td>9</td>\n",
       "      <td>4</td>\n",
       "      <td>17</td>\n",
       "      <td>18</td>\n",
       "      <td>4.0</td>\n",
       "    </tr>\n",
       "    <tr>\n",
       "      <th>1</th>\n",
       "      <td>22023</td>\n",
       "      <td>1610612744</td>\n",
       "      <td>GSW</td>\n",
       "      <td>Golden State Warriors</td>\n",
       "      <td>0022301085</td>\n",
       "      <td>2024-03-31</td>\n",
       "      <td>GSW @ SAS</td>\n",
       "      <td>W</td>\n",
       "      <td>241</td>\n",
       "      <td>117</td>\n",
       "      <td>45</td>\n",
       "      <td>92</td>\n",
       "      <td>0.489</td>\n",
       "      <td>16</td>\n",
       "      <td>39.0</td>\n",
       "      <td>0.410</td>\n",
       "      <td>11</td>\n",
       "      <td>13</td>\n",
       "      <td>0.846</td>\n",
       "      <td>12.0</td>\n",
       "      <td>29.0</td>\n",
       "      <td>41.0</td>\n",
       "      <td>34</td>\n",
       "      <td>15</td>\n",
       "      <td>3</td>\n",
       "      <td>15</td>\n",
       "      <td>14</td>\n",
       "      <td>4.0</td>\n",
       "    </tr>\n",
       "    <tr>\n",
       "      <th>2</th>\n",
       "      <td>22023</td>\n",
       "      <td>1610612744</td>\n",
       "      <td>GSW</td>\n",
       "      <td>Golden State Warriors</td>\n",
       "      <td>0022301062</td>\n",
       "      <td>2024-03-29</td>\n",
       "      <td>GSW @ CHA</td>\n",
       "      <td>W</td>\n",
       "      <td>240</td>\n",
       "      <td>115</td>\n",
       "      <td>48</td>\n",
       "      <td>89</td>\n",
       "      <td>0.539</td>\n",
       "      <td>11</td>\n",
       "      <td>32.0</td>\n",
       "      <td>0.344</td>\n",
       "      <td>8</td>\n",
       "      <td>9</td>\n",
       "      <td>0.889</td>\n",
       "      <td>11.0</td>\n",
       "      <td>39.0</td>\n",
       "      <td>50.0</td>\n",
       "      <td>35</td>\n",
       "      <td>7</td>\n",
       "      <td>5</td>\n",
       "      <td>12</td>\n",
       "      <td>19</td>\n",
       "      <td>18.0</td>\n",
       "    </tr>\n",
       "    <tr>\n",
       "      <th>3</th>\n",
       "      <td>22023</td>\n",
       "      <td>1610612744</td>\n",
       "      <td>GSW</td>\n",
       "      <td>Golden State Warriors</td>\n",
       "      <td>0022301049</td>\n",
       "      <td>2024-03-27</td>\n",
       "      <td>GSW @ ORL</td>\n",
       "      <td>W</td>\n",
       "      <td>241</td>\n",
       "      <td>101</td>\n",
       "      <td>40</td>\n",
       "      <td>90</td>\n",
       "      <td>0.444</td>\n",
       "      <td>10</td>\n",
       "      <td>34.0</td>\n",
       "      <td>0.294</td>\n",
       "      <td>11</td>\n",
       "      <td>13</td>\n",
       "      <td>0.846</td>\n",
       "      <td>12.0</td>\n",
       "      <td>40.0</td>\n",
       "      <td>52.0</td>\n",
       "      <td>26</td>\n",
       "      <td>5</td>\n",
       "      <td>5</td>\n",
       "      <td>12</td>\n",
       "      <td>18</td>\n",
       "      <td>8.0</td>\n",
       "    </tr>\n",
       "    <tr>\n",
       "      <th>4</th>\n",
       "      <td>22023</td>\n",
       "      <td>1610612744</td>\n",
       "      <td>GSW</td>\n",
       "      <td>Golden State Warriors</td>\n",
       "      <td>0022301044</td>\n",
       "      <td>2024-03-26</td>\n",
       "      <td>GSW @ MIA</td>\n",
       "      <td>W</td>\n",
       "      <td>243</td>\n",
       "      <td>113</td>\n",
       "      <td>47</td>\n",
       "      <td>85</td>\n",
       "      <td>0.553</td>\n",
       "      <td>13</td>\n",
       "      <td>38.0</td>\n",
       "      <td>0.342</td>\n",
       "      <td>6</td>\n",
       "      <td>10</td>\n",
       "      <td>0.600</td>\n",
       "      <td>7.0</td>\n",
       "      <td>36.0</td>\n",
       "      <td>43.0</td>\n",
       "      <td>31</td>\n",
       "      <td>6</td>\n",
       "      <td>5</td>\n",
       "      <td>10</td>\n",
       "      <td>20</td>\n",
       "      <td>21.0</td>\n",
       "    </tr>\n",
       "  </tbody>\n",
       "</table>\n",
       "</div>"
      ],
      "text/plain": [
       "  SEASON_ID     TEAM_ID TEAM_ABBREVIATION              TEAM_NAME     GAME_ID  \\\n",
       "0     22023  1610612744               GSW  Golden State Warriors  0022300589   \n",
       "1     22023  1610612744               GSW  Golden State Warriors  0022301085   \n",
       "2     22023  1610612744               GSW  Golden State Warriors  0022301062   \n",
       "3     22023  1610612744               GSW  Golden State Warriors  0022301049   \n",
       "4     22023  1610612744               GSW  Golden State Warriors  0022301044   \n",
       "\n",
       "    GAME_DATE      MATCHUP WL  MIN  PTS  FGM  FGA  FG_PCT  FG3M  FG3A  \\\n",
       "0  2024-04-02  GSW vs. DAL  W  242  104   41   90   0.456    15  32.0   \n",
       "1  2024-03-31    GSW @ SAS  W  241  117   45   92   0.489    16  39.0   \n",
       "2  2024-03-29    GSW @ CHA  W  240  115   48   89   0.539    11  32.0   \n",
       "3  2024-03-27    GSW @ ORL  W  241  101   40   90   0.444    10  34.0   \n",
       "4  2024-03-26    GSW @ MIA  W  243  113   47   85   0.553    13  38.0   \n",
       "\n",
       "   FG3_PCT  FTM  FTA  FT_PCT  OREB  DREB   REB  AST  STL  BLK  TOV  PF  \\\n",
       "0    0.469    7    7   1.000  11.0  41.0  52.0   29    9    4   17  18   \n",
       "1    0.410   11   13   0.846  12.0  29.0  41.0   34   15    3   15  14   \n",
       "2    0.344    8    9   0.889  11.0  39.0  50.0   35    7    5   12  19   \n",
       "3    0.294   11   13   0.846  12.0  40.0  52.0   26    5    5   12  18   \n",
       "4    0.342    6   10   0.600   7.0  36.0  43.0   31    6    5   10  20   \n",
       "\n",
       "   PLUS_MINUS  \n",
       "0         4.0  \n",
       "1         4.0  \n",
       "2        18.0  \n",
       "3         8.0  \n",
       "4        21.0  "
      ]
     },
     "execution_count": 41,
     "metadata": {},
     "output_type": "execute_result"
    }
   ],
   "source": [
    "games = gamefinder.get_data_frames()[0]\n",
    "games.head()"
   ]
  },
  {
   "cell_type": "code",
   "execution_count": 42,
   "id": "99cc6672-2972-45da-b1f1-4c6e22971ff4",
   "metadata": {},
   "outputs": [],
   "source": [
    "# check all both home and away games between GSW and TOR and calculate score differential. "
   ]
  },
  {
   "cell_type": "code",
   "execution_count": 43,
   "id": "f1e89d02-0222-4766-80e5-26fc1b246ccf",
   "metadata": {},
   "outputs": [],
   "source": [
    "games_home=games[games['MATCHUP']=='GSW vs. TOR']\n",
    "games_away=games[games['MATCHUP']=='GSW @ TOR']"
   ]
  },
  {
   "cell_type": "code",
   "execution_count": 44,
   "id": "9e589424-63bb-4778-b3f2-477e19e7b4f1",
   "metadata": {},
   "outputs": [
    {
     "data": {
      "text/plain": [
       "3.375"
      ]
     },
     "execution_count": 44,
     "metadata": {},
     "output_type": "execute_result"
    }
   ],
   "source": [
    "games_home['PLUS_MINUS'].mean()"
   ]
  },
  {
   "cell_type": "code",
   "execution_count": 45,
   "id": "b2f09b0b-a23b-4bb9-92bc-e95a44eda82c",
   "metadata": {},
   "outputs": [
    {
     "data": {
      "text/plain": [
       "-1.7212121212121212"
      ]
     },
     "execution_count": 45,
     "metadata": {},
     "output_type": "execute_result"
    }
   ],
   "source": [
    "games_away['PLUS_MINUS'].mean()"
   ]
  },
  {
   "cell_type": "markdown",
   "id": "8a153eff-d316-4792-8c2c-1ffb744bbe8d",
   "metadata": {},
   "source": [
    "### Author: Paul John Julongbayan"
   ]
  }
 ],
 "metadata": {
  "kernelspec": {
   "display_name": "Python 3 (ipykernel)",
   "language": "python",
   "name": "python3"
  },
  "language_info": {
   "codemirror_mode": {
    "name": "ipython",
    "version": 3
   },
   "file_extension": ".py",
   "mimetype": "text/x-python",
   "name": "python",
   "nbconvert_exporter": "python",
   "pygments_lexer": "ipython3",
   "version": "3.11.7"
  }
 },
 "nbformat": 4,
 "nbformat_minor": 5
}
