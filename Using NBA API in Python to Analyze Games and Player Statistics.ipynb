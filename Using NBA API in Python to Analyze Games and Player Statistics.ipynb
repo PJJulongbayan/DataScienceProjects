{
 "cells": [
  {
   "cell_type": "markdown",
   "id": "2db346f4-f9e0-4fd9-bb5a-681ddd626c63",
   "metadata": {},
   "source": [
    "### This notebook utlizes the NBA API to query team and player statistics."
   ]
  },
  {
   "cell_type": "code",
   "execution_count": 2,
   "id": "05f4d999-e241-4e22-8059-1a48f83755fd",
   "metadata": {},
   "outputs": [],
   "source": [
    "# load necessary libraries"
   ]
  },
  {
   "cell_type": "code",
   "execution_count": 3,
   "id": "fff0ff77-3114-44f9-b453-4c2d66ffaa8d",
   "metadata": {},
   "outputs": [],
   "source": [
    "import pandas as pd\n",
    "import numpy as np\n",
    "import sys\n",
    "import re   #string manipulation and search\n",
    "import requests # for web requests and APIs\n",
    "import json \n",
    "import matplotlib.pyplot as plt # charting"
   ]
  },
  {
   "cell_type": "code",
   "execution_count": 7,
   "id": "aac29163-93c4-4bc8-844e-0528f99e16b7",
   "metadata": {},
   "outputs": [],
   "source": [
    "# pip install nba_api - for installation"
   ]
  },
  {
   "cell_type": "code",
   "execution_count": 4,
   "id": "d9c111c6-164f-4246-9cd3-83927aebb541",
   "metadata": {},
   "outputs": [],
   "source": [
    "pd.set_option('display.max_columns',None) # so all columns are visible"
   ]
  },
  {
   "cell_type": "code",
   "execution_count": 5,
   "id": "08f44694-7cb7-49e4-bcd2-ed44ce75d3bc",
   "metadata": {},
   "outputs": [
    {
     "ename": "ModuleNotFoundError",
     "evalue": "No module named 'nba_api'",
     "output_type": "error",
     "traceback": [
      "\u001b[1;31m---------------------------------------------------------------------------\u001b[0m",
      "\u001b[1;31mModuleNotFoundError\u001b[0m                       Traceback (most recent call last)",
      "Cell \u001b[1;32mIn[5], line 1\u001b[0m\n\u001b[1;32m----> 1\u001b[0m \u001b[38;5;28;01mfrom\u001b[39;00m \u001b[38;5;21;01mnba_api\u001b[39;00m\u001b[38;5;21;01m.\u001b[39;00m\u001b[38;5;21;01mstats\u001b[39;00m\u001b[38;5;21;01m.\u001b[39;00m\u001b[38;5;21;01mstatic\u001b[39;00m \u001b[38;5;28;01mimport\u001b[39;00m teams\n",
      "\u001b[1;31mModuleNotFoundError\u001b[0m: No module named 'nba_api'"
     ]
    }
   ],
   "source": [
    "from nba_api.stats.static import teams"
   ]
  },
  {
   "cell_type": "code",
   "execution_count": null,
   "id": "5dd014eb-06b6-45cf-a6f7-1fb102852ba3",
   "metadata": {},
   "outputs": [],
   "source": [
    "nba_teams = teams.get_teams()"
   ]
  },
  {
   "cell_type": "code",
   "execution_count": null,
   "id": "4425803a-256b-4494-b942-292d16c1534c",
   "metadata": {},
   "outputs": [],
   "source": [
    "df = pd.DataFrame(nba_teams)"
   ]
  },
  {
   "cell_type": "code",
   "execution_count": null,
   "id": "4f44e5e0-b263-4dcc-b871-9b73d0258009",
   "metadata": {},
   "outputs": [],
   "source": [
    "df.head()"
   ]
  },
  {
   "cell_type": "code",
   "execution_count": null,
   "id": "331a98c1-0a54-459c-9daa-0493c2ae6ee8",
   "metadata": {},
   "outputs": [],
   "source": [
    "# query info for the golden state warriors"
   ]
  },
  {
   "cell_type": "code",
   "execution_count": null,
   "id": "4dbbb27e-e2e6-4f29-bcba-4f1e1f0e5212",
   "metadata": {},
   "outputs": [],
   "source": [
    "gsw = df[df[\"nickname\"] == \"Warriors\"]"
   ]
  },
  {
   "cell_type": "code",
   "execution_count": null,
   "id": "3f2665fa-7d21-4961-8881-30d47629f3c7",
   "metadata": {},
   "outputs": [],
   "source": [
    "id_gsw=gsw[['id']].values[0][0]\n",
    "# we now have an integer that can be used to request the Warriors information \n",
    "id_gsw"
   ]
  },
  {
   "cell_type": "code",
   "execution_count": null,
   "id": "39fd1c28-7d90-436b-898a-caa66645fe55",
   "metadata": {},
   "outputs": [],
   "source": [
    "# use league game finder to query games for GSW"
   ]
  },
  {
   "cell_type": "code",
   "execution_count": null,
   "id": "01c9fed8-5793-4412-a6de-e92c7425e91d",
   "metadata": {},
   "outputs": [],
   "source": [
    "from nba_api.stats.endpoints import leaguegamefinder"
   ]
  },
  {
   "cell_type": "code",
   "execution_count": null,
   "id": "4ff29d36-4656-4cba-ad44-c6b5be43bb29",
   "metadata": {},
   "outputs": [],
   "source": [
    "gamefinder = leaguegamefinder.LeagueGameFinder(team_id_nullable=id_gsw) # can remove team_id since it is nullable"
   ]
  },
  {
   "cell_type": "code",
   "execution_count": null,
   "id": "8d313212-1935-49fa-983c-0de01cdcda42",
   "metadata": {},
   "outputs": [],
   "source": [
    "games = gamefinder.get_data_frames()[0]\n",
    "games.head()"
   ]
  },
  {
   "cell_type": "code",
   "execution_count": null,
   "id": "99cc6672-2972-45da-b1f1-4c6e22971ff4",
   "metadata": {},
   "outputs": [],
   "source": [
    "# check all both home and away games between GSW and TOR and calculate score differential. "
   ]
  },
  {
   "cell_type": "code",
   "execution_count": null,
   "id": "f1e89d02-0222-4766-80e5-26fc1b246ccf",
   "metadata": {},
   "outputs": [],
   "source": [
    "games_home=games[games['MATCHUP']=='GSW vs. TOR']\n",
    "games_away=games[games['MATCHUP']=='GSW @ TOR']"
   ]
  },
  {
   "cell_type": "code",
   "execution_count": null,
   "id": "9e589424-63bb-4778-b3f2-477e19e7b4f1",
   "metadata": {},
   "outputs": [],
   "source": [
    "games_home['PLUS_MINUS'].mean()"
   ]
  },
  {
   "cell_type": "code",
   "execution_count": null,
   "id": "b2f09b0b-a23b-4bb9-92bc-e95a44eda82c",
   "metadata": {},
   "outputs": [],
   "source": [
    "games_away['PLUS_MINUS'].mean()"
   ]
  },
  {
   "cell_type": "markdown",
   "id": "8a153eff-d316-4792-8c2c-1ffb744bbe8d",
   "metadata": {},
   "source": [
    "### Author: Paul John Julongbayan"
   ]
  }
 ],
 "metadata": {
  "kernelspec": {
   "display_name": "Python 3 (ipykernel)",
   "language": "python",
   "name": "python3"
  },
  "language_info": {
   "codemirror_mode": {
    "name": "ipython",
    "version": 3
   },
   "file_extension": ".py",
   "mimetype": "text/x-python",
   "name": "python",
   "nbconvert_exporter": "python",
   "pygments_lexer": "ipython3",
   "version": "3.11.7"
  }
 },
 "nbformat": 4,
 "nbformat_minor": 5
}
