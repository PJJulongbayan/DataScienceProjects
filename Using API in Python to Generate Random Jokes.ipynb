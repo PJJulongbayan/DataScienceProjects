{
 "cells": [
  {
   "cell_type": "markdown",
   "id": "c227f19d-61fa-4e2b-9f32-97dd3ffb5cc1",
   "metadata": {},
   "source": [
    "### This notebook demonstrate the use of the JokesAPI in Python to generate random jokes. "
   ]
  },
  {
   "cell_type": "code",
   "execution_count": 1,
   "id": "b61e5206-ab53-486d-a9c6-f969bf0de35d",
   "metadata": {},
   "outputs": [],
   "source": [
    "# loading required libraries"
   ]
  },
  {
   "cell_type": "code",
   "execution_count": 2,
   "id": "8d18635e-a771-442f-9040-044794e459de",
   "metadata": {},
   "outputs": [],
   "source": [
    "import pandas as pd\n",
    "import requests\n",
    "import json"
   ]
  },
  {
   "cell_type": "code",
   "execution_count": 3,
   "id": "fd1f0f06-f205-447a-9fa2-36fb998e9377",
   "metadata": {},
   "outputs": [],
   "source": [
    "# request API using request.get to generate 10 jokes. \n",
    "jokes = requests.get(\"https://official-joke-api.appspot.com/jokes/ten\")"
   ]
  },
  {
   "cell_type": "code",
   "execution_count": 4,
   "id": "d68f39bd-e66d-4e7f-8e4b-d64e9b7e0ecf",
   "metadata": {},
   "outputs": [],
   "source": [
    "jokes_list = json.loads(jokes.text)"
   ]
  },
  {
   "cell_type": "code",
   "execution_count": 5,
   "id": "ddd3d400-0bd4-4fac-a614-4a9ed14b877e",
   "metadata": {},
   "outputs": [
    {
     "ename": "NameError",
     "evalue": "name 'jokes_new' is not defined",
     "output_type": "error",
     "traceback": [
      "\u001b[1;31m---------------------------------------------------------------------------\u001b[0m",
      "\u001b[1;31mNameError\u001b[0m                                 Traceback (most recent call last)",
      "Cell \u001b[1;32mIn[5], line 1\u001b[0m\n\u001b[1;32m----> 1\u001b[0m jokes_df \u001b[38;5;241m=\u001b[39m pd\u001b[38;5;241m.\u001b[39mDataFrame(jokes_new)\n",
      "\u001b[1;31mNameError\u001b[0m: name 'jokes_new' is not defined"
     ]
    }
   ],
   "source": [
    "jokes_df = pd.DataFrame(jokes_list)"
   ]
  },
  {
   "cell_type": "code",
   "execution_count": null,
   "id": "da4bb7b3-2bf0-44c9-b74c-3282696085fd",
   "metadata": {},
   "outputs": [],
   "source": [
    "jokes_df.drop(columns=[\"type\",\"id\"],inplace=True)"
   ]
  },
  {
   "cell_type": "code",
   "execution_count": null,
   "id": "c838796f-d7cd-4ff2-866d-bd6dca473bcf",
   "metadata": {},
   "outputs": [],
   "source": [
    "jokes_df"
   ]
  },
  {
   "cell_type": "markdown",
   "id": "819960fb-ae93-4af9-98fb-3ba12e1034a5",
   "metadata": {},
   "source": [
    "### Author: Paul John Julongbayan"
   ]
  }
 ],
 "metadata": {
  "kernelspec": {
   "display_name": "Python 3 (ipykernel)",
   "language": "python",
   "name": "python3"
  },
  "language_info": {
   "codemirror_mode": {
    "name": "ipython",
    "version": 3
   },
   "file_extension": ".py",
   "mimetype": "text/x-python",
   "name": "python",
   "nbconvert_exporter": "python",
   "pygments_lexer": "ipython3",
   "version": "3.11.7"
  }
 },
 "nbformat": 4,
 "nbformat_minor": 5
}
