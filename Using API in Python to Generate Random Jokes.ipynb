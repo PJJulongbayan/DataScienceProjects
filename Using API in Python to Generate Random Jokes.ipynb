{
 "cells": [
  {
   "cell_type": "markdown",
   "id": "c227f19d-61fa-4e2b-9f32-97dd3ffb5cc1",
   "metadata": {},
   "source": [
    "### This notebook demonstrate the use of the JokesAPI in Python to generate random jokes. "
   ]
  },
  {
   "cell_type": "code",
   "execution_count": 13,
   "id": "b61e5206-ab53-486d-a9c6-f969bf0de35d",
   "metadata": {},
   "outputs": [],
   "source": [
    "# loading required libraries"
   ]
  },
  {
   "cell_type": "code",
   "execution_count": 14,
   "id": "8d18635e-a771-442f-9040-044794e459de",
   "metadata": {},
   "outputs": [],
   "source": [
    "import pandas as pd\n",
    "import requests\n",
    "import json"
   ]
  },
  {
   "cell_type": "code",
   "execution_count": 15,
   "id": "fd1f0f06-f205-447a-9fa2-36fb998e9377",
   "metadata": {},
   "outputs": [],
   "source": [
    "# request API using request.get to generate 10 jokes. \n",
    "jokes = requests.get(\"https://official-joke-api.appspot.com/jokes/ten\")"
   ]
  },
  {
   "cell_type": "code",
   "execution_count": 16,
   "id": "d68f39bd-e66d-4e7f-8e4b-d64e9b7e0ecf",
   "metadata": {},
   "outputs": [],
   "source": [
    "jokes_list = json.loads(jokes.text)"
   ]
  },
  {
   "cell_type": "code",
   "execution_count": 17,
   "id": "ddd3d400-0bd4-4fac-a614-4a9ed14b877e",
   "metadata": {},
   "outputs": [],
   "source": [
    "jokes_df = pd.DataFrame(jokes_list)"
   ]
  },
  {
   "cell_type": "code",
   "execution_count": 18,
   "id": "da4bb7b3-2bf0-44c9-b74c-3282696085fd",
   "metadata": {},
   "outputs": [],
   "source": [
    "jokes_df.drop(columns=[\"type\",\"id\"],inplace=True)"
   ]
  },
  {
   "cell_type": "code",
   "execution_count": 19,
   "id": "c838796f-d7cd-4ff2-866d-bd6dca473bcf",
   "metadata": {},
   "outputs": [
    {
     "data": {
      "text/html": [
       "<div>\n",
       "<style scoped>\n",
       "    .dataframe tbody tr th:only-of-type {\n",
       "        vertical-align: middle;\n",
       "    }\n",
       "\n",
       "    .dataframe tbody tr th {\n",
       "        vertical-align: top;\n",
       "    }\n",
       "\n",
       "    .dataframe thead th {\n",
       "        text-align: right;\n",
       "    }\n",
       "</style>\n",
       "<table border=\"1\" class=\"dataframe\">\n",
       "  <thead>\n",
       "    <tr style=\"text-align: right;\">\n",
       "      <th></th>\n",
       "      <th>setup</th>\n",
       "      <th>punchline</th>\n",
       "    </tr>\n",
       "  </thead>\n",
       "  <tbody>\n",
       "    <tr>\n",
       "      <th>0</th>\n",
       "      <td>A weasel walks into a bar. The bartender says,...</td>\n",
       "      <td>Pop,goes the weasel.</td>\n",
       "    </tr>\n",
       "    <tr>\n",
       "      <th>1</th>\n",
       "      <td>What did the grape do when he got stepped on?</td>\n",
       "      <td>He let out a little wine.</td>\n",
       "    </tr>\n",
       "    <tr>\n",
       "      <th>2</th>\n",
       "      <td>Why did the girl smear peanut butter on the road?</td>\n",
       "      <td>To go with the traffic jam.</td>\n",
       "    </tr>\n",
       "    <tr>\n",
       "      <th>3</th>\n",
       "      <td>What do you call an elephant that doesn’t matter?</td>\n",
       "      <td>An irrelephant.</td>\n",
       "    </tr>\n",
       "    <tr>\n",
       "      <th>4</th>\n",
       "      <td>Do I enjoy making courthouse puns?</td>\n",
       "      <td>Guilty</td>\n",
       "    </tr>\n",
       "    <tr>\n",
       "      <th>5</th>\n",
       "      <td>What did Michael Jackson name his denim store?</td>\n",
       "      <td>Billy Jeans!</td>\n",
       "    </tr>\n",
       "    <tr>\n",
       "      <th>6</th>\n",
       "      <td>How many kids with ADD does it take to change ...</td>\n",
       "      <td>Let's go ride bikes!</td>\n",
       "    </tr>\n",
       "    <tr>\n",
       "      <th>7</th>\n",
       "      <td>Why do trees seem suspicious on sunny days?</td>\n",
       "      <td>Dunno, they're just a bit shady.</td>\n",
       "    </tr>\n",
       "    <tr>\n",
       "      <th>8</th>\n",
       "      <td>What do you call a sheep with no legs?</td>\n",
       "      <td>A cloud.</td>\n",
       "    </tr>\n",
       "    <tr>\n",
       "      <th>9</th>\n",
       "      <td>What do you call an eagle who can play the piano?</td>\n",
       "      <td>Talonted!</td>\n",
       "    </tr>\n",
       "  </tbody>\n",
       "</table>\n",
       "</div>"
      ],
      "text/plain": [
       "                                               setup  \\\n",
       "0  A weasel walks into a bar. The bartender says,...   \n",
       "1      What did the grape do when he got stepped on?   \n",
       "2  Why did the girl smear peanut butter on the road?   \n",
       "3  What do you call an elephant that doesn’t matter?   \n",
       "4                 Do I enjoy making courthouse puns?   \n",
       "5     What did Michael Jackson name his denim store?   \n",
       "6  How many kids with ADD does it take to change ...   \n",
       "7        Why do trees seem suspicious on sunny days?   \n",
       "8             What do you call a sheep with no legs?   \n",
       "9  What do you call an eagle who can play the piano?   \n",
       "\n",
       "                          punchline  \n",
       "0              Pop,goes the weasel.  \n",
       "1         He let out a little wine.  \n",
       "2       To go with the traffic jam.  \n",
       "3                   An irrelephant.  \n",
       "4                            Guilty  \n",
       "5                      Billy Jeans!  \n",
       "6              Let's go ride bikes!  \n",
       "7  Dunno, they're just a bit shady.  \n",
       "8                          A cloud.  \n",
       "9                         Talonted!  "
      ]
     },
     "execution_count": 19,
     "metadata": {},
     "output_type": "execute_result"
    }
   ],
   "source": [
    "jokes_df"
   ]
  },
  {
   "cell_type": "markdown",
   "id": "819960fb-ae93-4af9-98fb-3ba12e1034a5",
   "metadata": {},
   "source": [
    "### Author: Paul John Julongbayan"
   ]
  }
 ],
 "metadata": {
  "kernelspec": {
   "display_name": "Python 3 (ipykernel)",
   "language": "python",
   "name": "python3"
  },
  "language_info": {
   "codemirror_mode": {
    "name": "ipython",
    "version": 3
   },
   "file_extension": ".py",
   "mimetype": "text/x-python",
   "name": "python",
   "nbconvert_exporter": "python",
   "pygments_lexer": "ipython3",
   "version": "3.11.7"
  }
 },
 "nbformat": 4,
 "nbformat_minor": 5
}
