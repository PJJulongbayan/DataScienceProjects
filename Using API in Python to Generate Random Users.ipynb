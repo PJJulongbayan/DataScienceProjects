{
 "cells": [
  {
   "cell_type": "markdown",
   "id": "3c8e8cb8-dbff-4ff1-bab6-9266ee5b0b8a",
   "metadata": {},
   "source": [
    "### This notebook demonstrate the use of the RandomUserAPI in Python to generate random user information including randomly generated photos. "
   ]
  },
  {
   "cell_type": "code",
   "execution_count": 3,
   "id": "75e12453-7817-40f0-91b7-3ba20217519e",
   "metadata": {},
   "outputs": [],
   "source": [
    "# loading required libraries. Make sure to install randomuser using # pip install randomuser"
   ]
  },
  {
   "cell_type": "code",
   "execution_count": 4,
   "id": "b390d431-f3ee-4132-990d-8502b8179c68",
   "metadata": {},
   "outputs": [],
   "source": [
    "import pandas as pd\n",
    "import numpy as np\n",
    "import requests\n",
    "import json\n",
    "from randomuser import RandomUser"
   ]
  },
  {
   "cell_type": "code",
   "execution_count": 5,
   "id": "480b1e22-5cc8-4c84-a2f6-22381ef369cd",
   "metadata": {},
   "outputs": [],
   "source": [
    "# create an instance of the API\n",
    "r = RandomUser()"
   ]
  },
  {
   "cell_type": "code",
   "execution_count": 6,
   "id": "0e14dd03-7b02-41f3-9858-9e7322e30886",
   "metadata": {},
   "outputs": [],
   "source": [
    "# Generate 10 random users \n",
    "some_list = r.generate_users(10)"
   ]
  },
  {
   "cell_type": "code",
   "execution_count": 7,
   "id": "d066accd-1ee6-4bb6-9837-895f1e2d6af7",
   "metadata": {},
   "outputs": [],
   "source": [
    "# Generate 10 full names of the users\n",
    "name = r.get_full_name()"
   ]
  },
  {
   "cell_type": "code",
   "execution_count": 8,
   "id": "2f8bf8bf-d742-4395-96a9-a57b6e1530e9",
   "metadata": {},
   "outputs": [
    {
     "name": "stdout",
     "output_type": "stream",
     "text": [
      "یسنا گلشن   ysn.glshn@example.com\n",
      "Harro Staub   harro.staub@example.com\n",
      "Bror Ødegård   bror.odegard@example.com\n",
      "Hazel Ferguson   hazel.ferguson@example.com\n",
      "Paige Meyer   paige.meyer@example.com\n",
      "Timothee Morel   timothee.morel@example.com\n",
      "Dario Colin   dario.colin@example.com\n",
      "Bradley Hernandez   bradley.hernandez@example.com\n",
      "Charlie Robinson   charlie.robinson@example.com\n",
      "Meires Novaes   meires.novaes@example.com\n"
     ]
    }
   ],
   "source": [
    "# For each random user, print full name and email.\n",
    "for user in some_list:\n",
    "    print (user.get_full_name(),\" \",user.get_email())"
   ]
  },
  {
   "cell_type": "code",
   "execution_count": 9,
   "id": "6c08a2f7-ccb0-4c16-a82f-e78bc5fa6562",
   "metadata": {},
   "outputs": [],
   "source": [
    "# For each random user, generate a picture."
   ]
  },
  {
   "cell_type": "code",
   "execution_count": 10,
   "id": "b6450587-03f8-4b42-abbb-1dd4fced1df0",
   "metadata": {},
   "outputs": [
    {
     "name": "stdout",
     "output_type": "stream",
     "text": [
      "https://randomuser.me/api/portraits/women/60.jpg\n",
      "https://randomuser.me/api/portraits/men/2.jpg\n",
      "https://randomuser.me/api/portraits/men/28.jpg\n",
      "https://randomuser.me/api/portraits/women/80.jpg\n",
      "https://randomuser.me/api/portraits/women/85.jpg\n",
      "https://randomuser.me/api/portraits/men/19.jpg\n",
      "https://randomuser.me/api/portraits/men/8.jpg\n",
      "https://randomuser.me/api/portraits/men/97.jpg\n",
      "https://randomuser.me/api/portraits/men/35.jpg\n",
      "https://randomuser.me/api/portraits/women/85.jpg\n"
     ]
    }
   ],
   "source": [
    "for user in some_list:\n",
    "    print (user.get_picture())"
   ]
  },
  {
   "cell_type": "code",
   "execution_count": 11,
   "id": "4eedff98-3f27-4c72-9a84-8444e6336175",
   "metadata": {},
   "outputs": [],
   "source": [
    "# Use the steps above to create 100 random users with different information and append list into a dataframe. \n",
    "new_list = r.generate_users(1000)"
   ]
  },
  {
   "cell_type": "code",
   "execution_count": 12,
   "id": "16681975-7eb9-45d1-922e-43f592271213",
   "metadata": {},
   "outputs": [],
   "source": [
    "def get_users(x):\n",
    "    users =[]\n",
    "     \n",
    "    for user in RandomUser.generate_users(x):\n",
    "        users.append({\"Name\":user.get_full_name(),\"Gender\":user.get_gender(),\"City\":user.get_city(),\"State\":user.get_state(),\"Email\":user.get_email(), \"DOB\":user.get_dob(),\"Picture\":user.get_picture()})\n",
    "      \n",
    "    return pd.DataFrame(users)     "
   ]
  },
  {
   "cell_type": "code",
   "execution_count": 13,
   "id": "b1af66a3-6246-43f3-9e9c-13eb588ca898",
   "metadata": {},
   "outputs": [
    {
     "data": {
      "text/html": [
       "<div>\n",
       "<style scoped>\n",
       "    .dataframe tbody tr th:only-of-type {\n",
       "        vertical-align: middle;\n",
       "    }\n",
       "\n",
       "    .dataframe tbody tr th {\n",
       "        vertical-align: top;\n",
       "    }\n",
       "\n",
       "    .dataframe thead th {\n",
       "        text-align: right;\n",
       "    }\n",
       "</style>\n",
       "<table border=\"1\" class=\"dataframe\">\n",
       "  <thead>\n",
       "    <tr style=\"text-align: right;\">\n",
       "      <th></th>\n",
       "      <th>Name</th>\n",
       "      <th>Gender</th>\n",
       "      <th>City</th>\n",
       "      <th>State</th>\n",
       "      <th>Email</th>\n",
       "      <th>DOB</th>\n",
       "      <th>Picture</th>\n",
       "    </tr>\n",
       "  </thead>\n",
       "  <tbody>\n",
       "    <tr>\n",
       "      <th>0</th>\n",
       "      <td>Alexandre Pfeuffer</td>\n",
       "      <td>male</td>\n",
       "      <td>Rheda-Wiedenbrück</td>\n",
       "      <td>Bayern</td>\n",
       "      <td>alexandre.pfeuffer@example.com</td>\n",
       "      <td>1978-11-14T00:03:32.204Z</td>\n",
       "      <td>https://randomuser.me/api/portraits/men/40.jpg</td>\n",
       "    </tr>\n",
       "    <tr>\n",
       "      <th>1</th>\n",
       "      <td>یاسمین پارسا</td>\n",
       "      <td>female</td>\n",
       "      <td>قرچک</td>\n",
       "      <td>کهگیلویه و بویراحمد</td>\n",
       "      <td>ysmyn.prs@example.com</td>\n",
       "      <td>1966-06-29T13:20:55.675Z</td>\n",
       "      <td>https://randomuser.me/api/portraits/women/19.jpg</td>\n",
       "    </tr>\n",
       "    <tr>\n",
       "      <th>2</th>\n",
       "      <td>Louanne Clement</td>\n",
       "      <td>female</td>\n",
       "      <td>Besançon</td>\n",
       "      <td>Pyrénées-Atlantiques</td>\n",
       "      <td>louanne.clement@example.com</td>\n",
       "      <td>1997-11-25T18:44:01.527Z</td>\n",
       "      <td>https://randomuser.me/api/portraits/women/21.jpg</td>\n",
       "    </tr>\n",
       "    <tr>\n",
       "      <th>3</th>\n",
       "      <td>Barış Topçuoğlu</td>\n",
       "      <td>male</td>\n",
       "      <td>Kayseri</td>\n",
       "      <td>Mersin</td>\n",
       "      <td>baris.topcuoglu@example.com</td>\n",
       "      <td>1986-11-24T15:26:33.323Z</td>\n",
       "      <td>https://randomuser.me/api/portraits/men/61.jpg</td>\n",
       "    </tr>\n",
       "    <tr>\n",
       "      <th>4</th>\n",
       "      <td>Ludgero de Souza</td>\n",
       "      <td>male</td>\n",
       "      <td>Cotia</td>\n",
       "      <td>Amapá</td>\n",
       "      <td>ludgero.desouza@example.com</td>\n",
       "      <td>1967-02-11T16:28:27.223Z</td>\n",
       "      <td>https://randomuser.me/api/portraits/men/32.jpg</td>\n",
       "    </tr>\n",
       "    <tr>\n",
       "      <th>...</th>\n",
       "      <td>...</td>\n",
       "      <td>...</td>\n",
       "      <td>...</td>\n",
       "      <td>...</td>\n",
       "      <td>...</td>\n",
       "      <td>...</td>\n",
       "      <td>...</td>\n",
       "    </tr>\n",
       "    <tr>\n",
       "      <th>995</th>\n",
       "      <td>Miro Hokkanen</td>\n",
       "      <td>male</td>\n",
       "      <td>Jakobstad</td>\n",
       "      <td>Central Finland</td>\n",
       "      <td>miro.hokkanen@example.com</td>\n",
       "      <td>1957-10-01T10:08:53.108Z</td>\n",
       "      <td>https://randomuser.me/api/portraits/men/68.jpg</td>\n",
       "    </tr>\n",
       "    <tr>\n",
       "      <th>996</th>\n",
       "      <td>Jorge Andrews</td>\n",
       "      <td>male</td>\n",
       "      <td>Dundee</td>\n",
       "      <td>Tyne and Wear</td>\n",
       "      <td>jorge.andrews@example.com</td>\n",
       "      <td>1986-01-08T11:30:24.338Z</td>\n",
       "      <td>https://randomuser.me/api/portraits/men/76.jpg</td>\n",
       "    </tr>\n",
       "    <tr>\n",
       "      <th>997</th>\n",
       "      <td>Jaime Nieto</td>\n",
       "      <td>male</td>\n",
       "      <td>Gijón</td>\n",
       "      <td>Cantabria</td>\n",
       "      <td>jaime.nieto@example.com</td>\n",
       "      <td>1998-05-09T04:58:03.082Z</td>\n",
       "      <td>https://randomuser.me/api/portraits/men/76.jpg</td>\n",
       "    </tr>\n",
       "    <tr>\n",
       "      <th>998</th>\n",
       "      <td>Hudson Jackson</td>\n",
       "      <td>male</td>\n",
       "      <td>Gisborne</td>\n",
       "      <td>Hawke'S Bay</td>\n",
       "      <td>hudson.jackson@example.com</td>\n",
       "      <td>1987-12-26T04:24:11.842Z</td>\n",
       "      <td>https://randomuser.me/api/portraits/men/46.jpg</td>\n",
       "    </tr>\n",
       "    <tr>\n",
       "      <th>999</th>\n",
       "      <td>Emil Kari</td>\n",
       "      <td>male</td>\n",
       "      <td>Merikarvia</td>\n",
       "      <td>Lapland</td>\n",
       "      <td>emil.kari@example.com</td>\n",
       "      <td>1953-06-04T14:05:17.981Z</td>\n",
       "      <td>https://randomuser.me/api/portraits/men/74.jpg</td>\n",
       "    </tr>\n",
       "  </tbody>\n",
       "</table>\n",
       "<p>1000 rows × 7 columns</p>\n",
       "</div>"
      ],
      "text/plain": [
       "                   Name  Gender               City                 State  \\\n",
       "0    Alexandre Pfeuffer    male  Rheda-Wiedenbrück                Bayern   \n",
       "1          یاسمین پارسا  female               قرچک   کهگیلویه و بویراحمد   \n",
       "2       Louanne Clement  female           Besançon  Pyrénées-Atlantiques   \n",
       "3       Barış Topçuoğlu    male            Kayseri                Mersin   \n",
       "4      Ludgero de Souza    male              Cotia                 Amapá   \n",
       "..                  ...     ...                ...                   ...   \n",
       "995       Miro Hokkanen    male          Jakobstad       Central Finland   \n",
       "996       Jorge Andrews    male             Dundee         Tyne and Wear   \n",
       "997         Jaime Nieto    male              Gijón             Cantabria   \n",
       "998      Hudson Jackson    male           Gisborne           Hawke'S Bay   \n",
       "999           Emil Kari    male         Merikarvia               Lapland   \n",
       "\n",
       "                              Email                       DOB  \\\n",
       "0    alexandre.pfeuffer@example.com  1978-11-14T00:03:32.204Z   \n",
       "1             ysmyn.prs@example.com  1966-06-29T13:20:55.675Z   \n",
       "2       louanne.clement@example.com  1997-11-25T18:44:01.527Z   \n",
       "3       baris.topcuoglu@example.com  1986-11-24T15:26:33.323Z   \n",
       "4       ludgero.desouza@example.com  1967-02-11T16:28:27.223Z   \n",
       "..                              ...                       ...   \n",
       "995       miro.hokkanen@example.com  1957-10-01T10:08:53.108Z   \n",
       "996       jorge.andrews@example.com  1986-01-08T11:30:24.338Z   \n",
       "997         jaime.nieto@example.com  1998-05-09T04:58:03.082Z   \n",
       "998      hudson.jackson@example.com  1987-12-26T04:24:11.842Z   \n",
       "999           emil.kari@example.com  1953-06-04T14:05:17.981Z   \n",
       "\n",
       "                                              Picture  \n",
       "0      https://randomuser.me/api/portraits/men/40.jpg  \n",
       "1    https://randomuser.me/api/portraits/women/19.jpg  \n",
       "2    https://randomuser.me/api/portraits/women/21.jpg  \n",
       "3      https://randomuser.me/api/portraits/men/61.jpg  \n",
       "4      https://randomuser.me/api/portraits/men/32.jpg  \n",
       "..                                                ...  \n",
       "995    https://randomuser.me/api/portraits/men/68.jpg  \n",
       "996    https://randomuser.me/api/portraits/men/76.jpg  \n",
       "997    https://randomuser.me/api/portraits/men/76.jpg  \n",
       "998    https://randomuser.me/api/portraits/men/46.jpg  \n",
       "999    https://randomuser.me/api/portraits/men/74.jpg  \n",
       "\n",
       "[1000 rows x 7 columns]"
      ]
     },
     "execution_count": 13,
     "metadata": {},
     "output_type": "execute_result"
    }
   ],
   "source": [
    "get_users(1000)"
   ]
  },
  {
   "cell_type": "markdown",
   "id": "17223c65-5d3d-41e8-92eb-1adc3dd66de6",
   "metadata": {},
   "source": [
    "### Author: Paul John Julongbayan"
   ]
  }
 ],
 "metadata": {
  "kernelspec": {
   "display_name": "Python 3 (ipykernel)",
   "language": "python",
   "name": "python3"
  },
  "language_info": {
   "codemirror_mode": {
    "name": "ipython",
    "version": 3
   },
   "file_extension": ".py",
   "mimetype": "text/x-python",
   "name": "python",
   "nbconvert_exporter": "python",
   "pygments_lexer": "ipython3",
   "version": "3.11.7"
  }
 },
 "nbformat": 4,
 "nbformat_minor": 5
}
